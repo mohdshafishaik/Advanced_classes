{
 "cells": [
  {
   "cell_type": "code",
   "execution_count": null,
   "metadata": {},
   "outputs": [],
   "source": [
    "Agenda for the Day: Advanced Python-Software Setup\n",
    "    \n",
    "Advanced Python Softwares installation process:"
   ]
  },
  {
   "cell_type": "code",
   "execution_count": null,
   "metadata": {},
   "outputs": [],
   "source": [
    "1. python ---->installation\n",
    "2.intellij IDE installation"
   ]
  },
  {
   "cell_type": "code",
   "execution_count": null,
   "metadata": {},
   "outputs": [],
   "source": [
    "1. python --->installation --->overview\n",
    "\n",
    "steps below:\n",
    "    \n",
    "a.www.python.org--->open the link\n",
    "b.go to your downloads--->install the software--->byclicking on the exe. file--->run\n",
    "c.all the settings are default--->next-->next-->next--->confirm and install it."
   ]
  },
  {
   "cell_type": "code",
   "execution_count": null,
   "metadata": {},
   "outputs": [],
   "source": []
  },
  {
   "cell_type": "code",
   "execution_count": null,
   "metadata": {},
   "outputs": [],
   "source": [
    "2.Install intellij IDE-overview\n",
    "\n",
    "IDe--->Integrated Devolopment environment\n",
    "\n",
    "steps below:\n",
    "1.open your browser-->search this: download intellij IDe ---> choose community edition-->Download\n",
    "2. o to your downloads-->install the software -->by clicking on exe. file -->run-->next-->next-->\n",
    "3.launch the intellij IDE\n",
    "\n",
    "\n",
    "setup the configurations:\n",
    "Go to configurations:\n",
    "\n",
    "search for python community edition --->install and restart\n",
    "\n",
    "click on create new project --->project SDK(software devolopment kit)"
   ]
  },
  {
   "cell_type": "code",
   "execution_count": null,
   "metadata": {},
   "outputs": [],
   "source": [
    ">"
   ]
  }
 ],
 "metadata": {
  "kernelspec": {
   "display_name": "Python 3",
   "language": "python",
   "name": "python3"
  },
  "language_info": {
   "codemirror_mode": {
    "name": "ipython",
    "version": 3
   },
   "file_extension": ".py",
   "mimetype": "text/x-python",
   "name": "python",
   "nbconvert_exporter": "python",
   "pygments_lexer": "ipython3",
   "version": "3.7.3"
  }
 },
 "nbformat": 4,
 "nbformat_minor": 2
}
