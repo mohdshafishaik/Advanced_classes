{
 "cells": [
  {
   "cell_type": "code",
   "execution_count": null,
   "metadata": {},
   "outputs": [],
   "source": [
    "working towards real time environment:\n",
    "    \n",
    "Introduction and Advanced_course_content:\n",
    "1.oops concepts:\n",
    "    a.Inheritence\n",
    "    b.encapsulation\n",
    "    c.abstraction\n",
    "    d.polymorphism\n",
    "2.understanding import statements----.code re-usability concept:\n",
    "    a.import classes\n",
    "    b.import modules\n",
    "    c.import packages\n",
    "    \n",
    "3.Exceptional Handling:\n",
    "    a.using try-except else block\n",
    "    b.using exceptions to prevent crashes\n",
    "    c.the else block\n",
    "    d.writing custom exceptions\n",
    "    e.using raise-value exceptions\n",
    "    \n",
    "4.3rd Party libraries of python:(high-end powerful libraries):\n",
    "    chapter1. Numpy\n",
    "    Chapter2. Pandas\n",
    "    Chapter3. Matplotlib\n",
    "    Chapter4. Openpyxl\n",
    "    Github Operations:\n",
    "        \n",
    "        \n",
    "        \n",
    "2. Projects in python: Completly using real time data set...!\n",
    "    \n",
    "tools going to be used---->Intellij IDE --->integrated Devolopment environment--->open source\n",
    "\n",
    "time complexity---->how much time are you taking to write the code\n",
    "space complexity--->hoe much lesser lines of code you are writing"
   ]
  },
  {
   "cell_type": "code",
   "execution_count": null,
   "metadata": {},
   "outputs": [],
   "source": []
  }
 ],
 "metadata": {
  "kernelspec": {
   "display_name": "Python 3",
   "language": "python",
   "name": "python3"
  },
  "language_info": {
   "codemirror_mode": {
    "name": "ipython",
    "version": 3
   },
   "file_extension": ".py",
   "mimetype": "text/x-python",
   "name": "python",
   "nbconvert_exporter": "python",
   "pygments_lexer": "ipython3",
   "version": "3.7.3"
  }
 },
 "nbformat": 4,
 "nbformat_minor": 2
}
